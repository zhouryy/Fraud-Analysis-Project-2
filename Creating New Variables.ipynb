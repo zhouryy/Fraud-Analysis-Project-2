{
 "cells": [
  {
   "cell_type": "markdown",
   "metadata": {},
   "source": [
    "### Create New Variables\n",
    "- Build many candidate variables for Project 2\n",
    "- Include one risk table variable: likelihood of fraud for that day of the week. Don’t use the OOT data to calculate the risk table.\n",
    "- Provide basic statistics for all candidate variables: Min, max, mean, stdev\n",
    "- Submit an excel file with all candidate variables and statistics. This table will be # variables by 4 (max, min, mean, stdev)\n",
    "- Also submit a word document with a high-level summary of the kinds of variables you created. Just a few bullet points. Include the total number of variables created.\n",
    "- Probably have somewhere around 300 to 500 candidate variables\n",
    "- The more the better. The more variety the better.\n"
   ]
  },
  {
   "cell_type": "code",
   "execution_count": 1,
   "metadata": {
    "ExecuteTime": {
     "end_time": "2021-03-16T17:30:32.795721Z",
     "start_time": "2021-03-16T17:30:29.097728Z"
    }
   },
   "outputs": [
    {
     "name": "stdout",
     "output_type": "stream",
     "text": [
      "<class 'pandas.core.frame.DataFrame'>\n",
      "RangeIndex: 1000000 entries, 0 to 999999\n",
      "Data columns (total 10 columns):\n",
      " #   Column       Non-Null Count    Dtype \n",
      "---  ------       --------------    ----- \n",
      " 0   record       1000000 non-null  int64 \n",
      " 1   date         1000000 non-null  int64 \n",
      " 2   ssn          1000000 non-null  int64 \n",
      " 3   firstname    1000000 non-null  object\n",
      " 4   lastname     1000000 non-null  object\n",
      " 5   address      1000000 non-null  object\n",
      " 6   zip5         1000000 non-null  int64 \n",
      " 7   dob          1000000 non-null  int64 \n",
      " 8   homephone    1000000 non-null  int64 \n",
      " 9   fraud_label  1000000 non-null  int64 \n",
      "dtypes: int64(7), object(3)\n",
      "memory usage: 76.3+ MB\n"
     ]
    }
   ],
   "source": [
    "import pandas as pd\n",
    "import matplotlib.pyplot as plt\n",
    "import seaborn as sns\n",
    "import datetime as dt\n",
    "import time\n",
    "import numpy as np\n",
    "\n",
    "df = pd.read_csv('applications data.csv')\n",
    "df.info()"
   ]
  },
  {
   "cell_type": "code",
   "execution_count": 2,
   "metadata": {
    "ExecuteTime": {
     "end_time": "2021-03-16T17:30:34.544795Z",
     "start_time": "2021-03-16T17:30:32.809225Z"
    }
   },
   "outputs": [
    {
     "data": {
      "text/html": [
       "<div>\n",
       "<style scoped>\n",
       "    .dataframe tbody tr th:only-of-type {\n",
       "        vertical-align: middle;\n",
       "    }\n",
       "\n",
       "    .dataframe tbody tr th {\n",
       "        vertical-align: top;\n",
       "    }\n",
       "\n",
       "    .dataframe thead th {\n",
       "        text-align: right;\n",
       "    }\n",
       "</style>\n",
       "<table border=\"1\" class=\"dataframe\">\n",
       "  <thead>\n",
       "    <tr style=\"text-align: right;\">\n",
       "      <th></th>\n",
       "      <th>record</th>\n",
       "      <th>date</th>\n",
       "      <th>ssn</th>\n",
       "      <th>firstname</th>\n",
       "      <th>lastname</th>\n",
       "      <th>address</th>\n",
       "      <th>zip5</th>\n",
       "      <th>dob</th>\n",
       "      <th>homephone</th>\n",
       "      <th>fraud_label</th>\n",
       "    </tr>\n",
       "  </thead>\n",
       "  <tbody>\n",
       "    <tr>\n",
       "      <th>0</th>\n",
       "      <td>1</td>\n",
       "      <td>2016-01-01</td>\n",
       "      <td>379070012</td>\n",
       "      <td>XRRAMMTR</td>\n",
       "      <td>SMJETJMJ</td>\n",
       "      <td>6861 EUTST PL</td>\n",
       "      <td>02765</td>\n",
       "      <td>19070626</td>\n",
       "      <td>1797504115</td>\n",
       "      <td>0</td>\n",
       "    </tr>\n",
       "    <tr>\n",
       "      <th>1</th>\n",
       "      <td>2</td>\n",
       "      <td>2016-01-01</td>\n",
       "      <td>387482503</td>\n",
       "      <td>MAMSTUJR</td>\n",
       "      <td>RTTEMRRR</td>\n",
       "      <td>7280 URASA PL</td>\n",
       "      <td>57169</td>\n",
       "      <td>19340615</td>\n",
       "      <td>4164239415</td>\n",
       "      <td>1</td>\n",
       "    </tr>\n",
       "    <tr>\n",
       "      <th>2</th>\n",
       "      <td>3</td>\n",
       "      <td>2016-01-01</td>\n",
       "      <td>200332444</td>\n",
       "      <td>SZMMUJEZS</td>\n",
       "      <td>EUSEZRAE</td>\n",
       "      <td>5581 RSREX LN</td>\n",
       "      <td>56721</td>\n",
       "      <td>19070626</td>\n",
       "      <td>216537580</td>\n",
       "      <td>0</td>\n",
       "    </tr>\n",
       "    <tr>\n",
       "      <th>3</th>\n",
       "      <td>4</td>\n",
       "      <td>2016-01-01</td>\n",
       "      <td>747451317</td>\n",
       "      <td>SJJZSXRSZ</td>\n",
       "      <td>ETJXTXXS</td>\n",
       "      <td>1387 UJZXJ RD</td>\n",
       "      <td>35286</td>\n",
       "      <td>19440430</td>\n",
       "      <td>132144161</td>\n",
       "      <td>0</td>\n",
       "    </tr>\n",
       "    <tr>\n",
       "      <th>4</th>\n",
       "      <td>5</td>\n",
       "      <td>2016-01-01</td>\n",
       "      <td>24065868</td>\n",
       "      <td>SSSXUEJMS</td>\n",
       "      <td>SSUUJXUZ</td>\n",
       "      <td>279 EAASA WY</td>\n",
       "      <td>03173</td>\n",
       "      <td>19980315</td>\n",
       "      <td>6101082272</td>\n",
       "      <td>0</td>\n",
       "    </tr>\n",
       "    <tr>\n",
       "      <th>...</th>\n",
       "      <td>...</td>\n",
       "      <td>...</td>\n",
       "      <td>...</td>\n",
       "      <td>...</td>\n",
       "      <td>...</td>\n",
       "      <td>...</td>\n",
       "      <td>...</td>\n",
       "      <td>...</td>\n",
       "      <td>...</td>\n",
       "      <td>...</td>\n",
       "    </tr>\n",
       "    <tr>\n",
       "      <th>999995</th>\n",
       "      <td>999996</td>\n",
       "      <td>2016-12-31</td>\n",
       "      <td>766104848</td>\n",
       "      <td>XUSAAURMZ</td>\n",
       "      <td>EJXXEXZX</td>\n",
       "      <td>8079 EJRUJ AVE</td>\n",
       "      <td>54890</td>\n",
       "      <td>19550418</td>\n",
       "      <td>8236558223</td>\n",
       "      <td>0</td>\n",
       "    </tr>\n",
       "    <tr>\n",
       "      <th>999996</th>\n",
       "      <td>999997</td>\n",
       "      <td>2016-12-31</td>\n",
       "      <td>445178058</td>\n",
       "      <td>SAAJJEMTX</td>\n",
       "      <td>UMAUETJX</td>\n",
       "      <td>4817 UMSXT AVE</td>\n",
       "      <td>74683</td>\n",
       "      <td>19150624</td>\n",
       "      <td>6790134432</td>\n",
       "      <td>0</td>\n",
       "    </tr>\n",
       "    <tr>\n",
       "      <th>999997</th>\n",
       "      <td>999998</td>\n",
       "      <td>2016-12-31</td>\n",
       "      <td>25283410</td>\n",
       "      <td>ESRXXRSUX</td>\n",
       "      <td>EUEJRJJE</td>\n",
       "      <td>7562 RJMAZ ST</td>\n",
       "      <td>86805</td>\n",
       "      <td>19880628</td>\n",
       "      <td>3997657622</td>\n",
       "      <td>0</td>\n",
       "    </tr>\n",
       "    <tr>\n",
       "      <th>999998</th>\n",
       "      <td>999999</td>\n",
       "      <td>2016-12-31</td>\n",
       "      <td>361232148</td>\n",
       "      <td>XXMZSRXMA</td>\n",
       "      <td>RSRSUJSS</td>\n",
       "      <td>3408 UZZAM WY</td>\n",
       "      <td>49183</td>\n",
       "      <td>20120302</td>\n",
       "      <td>5935293731</td>\n",
       "      <td>0</td>\n",
       "    </tr>\n",
       "    <tr>\n",
       "      <th>999999</th>\n",
       "      <td>1000000</td>\n",
       "      <td>2016-12-31</td>\n",
       "      <td>40027083</td>\n",
       "      <td>RXZXSMEZA</td>\n",
       "      <td>UTEAAZXU</td>\n",
       "      <td>112 UTTJT PL</td>\n",
       "      <td>39491</td>\n",
       "      <td>19820826</td>\n",
       "      <td>5869926905</td>\n",
       "      <td>0</td>\n",
       "    </tr>\n",
       "  </tbody>\n",
       "</table>\n",
       "<p>1000000 rows × 10 columns</p>\n",
       "</div>"
      ],
      "text/plain": [
       "         record       date        ssn  firstname  lastname         address  \\\n",
       "0             1 2016-01-01  379070012   XRRAMMTR  SMJETJMJ   6861 EUTST PL   \n",
       "1             2 2016-01-01  387482503   MAMSTUJR  RTTEMRRR   7280 URASA PL   \n",
       "2             3 2016-01-01  200332444  SZMMUJEZS  EUSEZRAE   5581 RSREX LN   \n",
       "3             4 2016-01-01  747451317  SJJZSXRSZ  ETJXTXXS   1387 UJZXJ RD   \n",
       "4             5 2016-01-01   24065868  SSSXUEJMS  SSUUJXUZ    279 EAASA WY   \n",
       "...         ...        ...        ...        ...       ...             ...   \n",
       "999995   999996 2016-12-31  766104848  XUSAAURMZ  EJXXEXZX  8079 EJRUJ AVE   \n",
       "999996   999997 2016-12-31  445178058  SAAJJEMTX  UMAUETJX  4817 UMSXT AVE   \n",
       "999997   999998 2016-12-31   25283410  ESRXXRSUX  EUEJRJJE   7562 RJMAZ ST   \n",
       "999998   999999 2016-12-31  361232148  XXMZSRXMA  RSRSUJSS   3408 UZZAM WY   \n",
       "999999  1000000 2016-12-31   40027083  RXZXSMEZA  UTEAAZXU    112 UTTJT PL   \n",
       "\n",
       "         zip5       dob   homephone  fraud_label  \n",
       "0       02765  19070626  1797504115            0  \n",
       "1       57169  19340615  4164239415            1  \n",
       "2       56721  19070626   216537580            0  \n",
       "3       35286  19440430   132144161            0  \n",
       "4       03173  19980315  6101082272            0  \n",
       "...       ...       ...         ...          ...  \n",
       "999995  54890  19550418  8236558223            0  \n",
       "999996  74683  19150624  6790134432            0  \n",
       "999997  86805  19880628  3997657622            0  \n",
       "999998  49183  20120302  5935293731            0  \n",
       "999999  39491  19820826  5869926905            0  \n",
       "\n",
       "[1000000 rows x 10 columns]"
      ]
     },
     "execution_count": 2,
     "metadata": {},
     "output_type": "execute_result"
    }
   ],
   "source": [
    "#fix datatype\n",
    "df['date'] = pd.to_datetime(df.date.astype(str).apply(lambda x: x[:4]+'-'+x[4:6]+'-'+x[6:]))\n",
    "df['zip5'] = df['zip5'].apply(lambda x: '{0:0>5}'.format(x))\n",
    "df"
   ]
  },
  {
   "cell_type": "code",
   "execution_count": 3,
   "metadata": {
    "ExecuteTime": {
     "end_time": "2021-03-16T17:30:35.167222Z",
     "start_time": "2021-03-16T17:30:34.559392Z"
    }
   },
   "outputs": [],
   "source": [
    "#fix frivolous values for ssn\n",
    "df.loc[df.ssn==999999999,'ssn']= -df[df.ssn==999999999]['record']\n",
    "df['ssn'] = df['ssn'].apply(lambda x : '{0:0>9}'.format(x))"
   ]
  },
  {
   "cell_type": "code",
   "execution_count": 4,
   "metadata": {
    "ExecuteTime": {
     "end_time": "2021-03-16T17:30:35.424442Z",
     "start_time": "2021-03-16T17:30:35.182466Z"
    }
   },
   "outputs": [],
   "source": [
    "#fix frivolous values for address\n",
    "df.loc[df.address=='123 MAIN ST','address'] = df.loc[df.address=='123 MAIN ST','record'].\\\n",
    "    apply(lambda x: str(x)+' RECORD')"
   ]
  },
  {
   "cell_type": "code",
   "execution_count": 5,
   "metadata": {
    "ExecuteTime": {
     "end_time": "2021-03-16T17:30:35.973815Z",
     "start_time": "2021-03-16T17:30:35.439528Z"
    }
   },
   "outputs": [],
   "source": [
    "#fix frivolous values for dob\n",
    "df.loc[df.dob==19070626,'dob']= -df.loc[df.dob==19070626]['record']\n",
    "df['dob'] = df['dob'].apply(lambda x: '{0:0>8}'.format(x))"
   ]
  },
  {
   "cell_type": "code",
   "execution_count": 6,
   "metadata": {
    "ExecuteTime": {
     "end_time": "2021-03-16T17:30:36.680032Z",
     "start_time": "2021-03-16T17:30:35.988823Z"
    }
   },
   "outputs": [],
   "source": [
    "#fix frivolous values for homephone\n",
    "df.loc[df.homephone == 9999999999,'homephone'] = -df.loc[df.homephone == 9999999999]['record']\n",
    "df['homephone'] = df['homephone'].apply(lambda x: '{0:0>10}'.format(x))"
   ]
  },
  {
   "cell_type": "code",
   "execution_count": 7,
   "metadata": {
    "ExecuteTime": {
     "end_time": "2021-03-16T17:30:42.728623Z",
     "start_time": "2021-03-16T17:30:36.695859Z"
    }
   },
   "outputs": [],
   "source": [
    "#risk table for day of week\n",
    "import calendar\n",
    "df['dow'] = df.date.apply(lambda x: calendar.day_name[x.weekday()])"
   ]
  },
  {
   "cell_type": "code",
   "execution_count": 8,
   "metadata": {
    "ExecuteTime": {
     "end_time": "2021-03-16T17:30:43.041719Z",
     "start_time": "2021-03-16T17:30:42.745519Z"
    }
   },
   "outputs": [],
   "source": [
    "train_test = df[df.date < '2016-11-01']"
   ]
  },
  {
   "cell_type": "code",
   "execution_count": 9,
   "metadata": {
    "ExecuteTime": {
     "end_time": "2021-03-16T17:30:43.654482Z",
     "start_time": "2021-03-16T17:30:43.065478Z"
    }
   },
   "outputs": [],
   "source": [
    "#statistical smoothing\n",
    "c = 4\n",
    "nmid = 20\n",
    "y_avg = train_test['fraud_label'].mean()\n",
    "y_dow = train_test.groupby('dow')['fraud_label'].mean()\n",
    "num = train_test.groupby('dow').size()\n",
    "y_dow_smooth = y_avg+(y_dow - y_avg)/(1 + np.exp(-(num - nmid)/c))\n",
    "df['dow_risk'] = df.dow.map(y_dow_smooth)"
   ]
  },
  {
   "cell_type": "code",
   "execution_count": 10,
   "metadata": {
    "ExecuteTime": {
     "end_time": "2021-03-16T17:30:43.740623Z",
     "start_time": "2021-03-16T17:30:43.680516Z"
    },
    "scrolled": true
   },
   "outputs": [
    {
     "data": {
      "text/html": [
       "<div>\n",
       "<style scoped>\n",
       "    .dataframe tbody tr th:only-of-type {\n",
       "        vertical-align: middle;\n",
       "    }\n",
       "\n",
       "    .dataframe tbody tr th {\n",
       "        vertical-align: top;\n",
       "    }\n",
       "\n",
       "    .dataframe thead th {\n",
       "        text-align: right;\n",
       "    }\n",
       "</style>\n",
       "<table border=\"1\" class=\"dataframe\">\n",
       "  <thead>\n",
       "    <tr style=\"text-align: right;\">\n",
       "      <th></th>\n",
       "      <th>dow_risk</th>\n",
       "      <th>order</th>\n",
       "    </tr>\n",
       "    <tr>\n",
       "      <th>dow</th>\n",
       "      <th></th>\n",
       "      <th></th>\n",
       "    </tr>\n",
       "  </thead>\n",
       "  <tbody>\n",
       "    <tr>\n",
       "      <th>Monday</th>\n",
       "      <td>0.013480</td>\n",
       "      <td>1</td>\n",
       "    </tr>\n",
       "    <tr>\n",
       "      <th>Tuesday</th>\n",
       "      <td>0.014070</td>\n",
       "      <td>2</td>\n",
       "    </tr>\n",
       "    <tr>\n",
       "      <th>Wednesday</th>\n",
       "      <td>0.015169</td>\n",
       "      <td>3</td>\n",
       "    </tr>\n",
       "    <tr>\n",
       "      <th>Thursday</th>\n",
       "      <td>0.014981</td>\n",
       "      <td>4</td>\n",
       "    </tr>\n",
       "    <tr>\n",
       "      <th>Friday</th>\n",
       "      <td>0.014499</td>\n",
       "      <td>5</td>\n",
       "    </tr>\n",
       "    <tr>\n",
       "      <th>Saturday</th>\n",
       "      <td>0.014968</td>\n",
       "      <td>6</td>\n",
       "    </tr>\n",
       "    <tr>\n",
       "      <th>Sunday</th>\n",
       "      <td>0.013674</td>\n",
       "      <td>7</td>\n",
       "    </tr>\n",
       "  </tbody>\n",
       "</table>\n",
       "</div>"
      ],
      "text/plain": [
       "           dow_risk  order\n",
       "dow                       \n",
       "Monday     0.013480      1\n",
       "Tuesday    0.014070      2\n",
       "Wednesday  0.015169      3\n",
       "Thursday   0.014981      4\n",
       "Friday     0.014499      5\n",
       "Saturday   0.014968      6\n",
       "Sunday     0.013674      7"
      ]
     },
     "execution_count": 10,
     "metadata": {},
     "output_type": "execute_result"
    }
   ],
   "source": [
    "g = df.groupby('dow')['dow_risk'].mean()\n",
    "plot = pd.DataFrame(g)\n",
    "plot['order'] = [5,1,6,7,4,2,3]\n",
    "plot = plot.sort_values('order')\n",
    "plot"
   ]
  },
  {
   "cell_type": "code",
   "execution_count": 11,
   "metadata": {
    "ExecuteTime": {
     "end_time": "2021-03-16T17:30:43.971782Z",
     "start_time": "2021-03-16T17:30:43.766034Z"
    }
   },
   "outputs": [
    {
     "data": {
      "image/png": "[encoded data removed]",
      "text/plain": [
       "<Figure size 1080x432 with 1 Axes>"
      ]
     },
     "metadata": {
      "needs_background": "light"
     },
     "output_type": "display_data"
    }
   ],
   "source": [
    "avg = sum(plot['dow_risk'])/7\n",
    "plt.rc('legend',fontsize=14)\n",
    "fig_dims = (15, 6)\n",
    "fig, ax = plt.subplots(figsize=fig_dims)\n",
    "a = sns.barplot(x=plot.index,y='dow_risk',ax=ax,data=plot,color='lightblue',)\n",
    "a.set_ylabel(\"Percentage\",fontsize=14)\n",
    "a.set_title('Fraud Proportion of Each Weekday', fontsize = 20)\n",
    "a.tick_params(labelsize=12)\n",
    "plt.axhline(y=avg, color='r', linestyle='--',label='Average fraud proportion')\n",
    "plt.xticks(rotation=0)\n",
    "a.set_ylim([0.013,0.016])\n",
    "\n",
    "plt.legend()\n",
    "for bar in a.patches:  \n",
    "    a.annotate(format(bar.get_height(), '.5f'),  \n",
    "                   (bar.get_x() + bar.get_width() / 2,  \n",
    "                    bar.get_height()), ha='center', va='center', \n",
    "                   size=14, xytext=(0, 8), \n",
    "                   textcoords='offset points') \n",
    "plt.show()"
   ]
  },
  {
   "cell_type": "code",
   "execution_count": 12,
   "metadata": {
    "ExecuteTime": {
     "end_time": "2021-03-16T17:30:45.044088Z",
     "start_time": "2021-03-16T17:30:43.994894Z"
    }
   },
   "outputs": [],
   "source": [
    "#create entities\n",
    "df['name'] = df.firstname+df.lastname\n",
    "df['fulladdress'] = df.address+df.zip5\n",
    "df['name_dob'] = df.name + df.dob\n",
    "df['name_fulladdress'] = df.name+df.fulladdress\n",
    "df['name_homephone'] = df.name+df.homephone\n",
    "df['fulladdress_dob'] = df.fulladdress+df.dob\n",
    "df['fulladdress_homephone'] = df.fulladdress+df.homephone\n",
    "df['dob_homephone'] = df.dob+df.homephone\n",
    "df['homephone_name_dob'] = df.homephone+df.name_dob"
   ]
  },
  {
   "cell_type": "code",
   "execution_count": 13,
   "metadata": {
    "ExecuteTime": {
     "end_time": "2021-03-16T17:30:47.515952Z",
     "start_time": "2021-03-16T17:30:45.933703Z"
    },
    "scrolled": true
   },
   "outputs": [],
   "source": [
    "for field in list(df.iloc[:,np.r_[3:9,12:15]].columns):\n",
    "    df['ssn_'+ field] = df.ssn + df[field]"
   ]
  },
  {
   "cell_type": "code",
   "execution_count": 14,
   "metadata": {
    "ExecuteTime": {
     "end_time": "2021-03-16T17:30:49.654052Z",
     "start_time": "2021-03-16T17:30:48.412713Z"
    }
   },
   "outputs": [],
   "source": [
    "attributes = list(df.iloc[:,np.r_[2,5,7,8,12:30]].columns)"
   ]
  },
  {
   "cell_type": "code",
   "execution_count": 15,
   "metadata": {
    "ExecuteTime": {
     "end_time": "2021-03-16T17:30:50.689030Z",
     "start_time": "2021-03-16T17:30:50.188056Z"
    }
   },
   "outputs": [],
   "source": [
    "# velocity + day since\n",
    "df1=df.copy()\n",
    "final = df.copy()\n",
    "df1['check_date'] = df1.date\n",
    "df1['check_record'] = df1.record"
   ]
  },
  {
   "cell_type": "code",
   "execution_count": 16,
   "metadata": {
    "ExecuteTime": {
     "end_time": "2021-03-16T17:32:51.374525Z",
     "start_time": "2021-03-16T17:30:52.088283Z"
    },
    "scrolled": true
   },
   "outputs": [
    {
     "name": "stdout",
     "output_type": "stream",
     "text": [
      "\n",
      "ssn_day_since ---> Done\n",
      "ssn_count_0 ---> Done\n",
      "ssn_count_1 ---> Done\n",
      "ssn_count_3 ---> Done\n",
      "ssn_count_7 ---> Done\n",
      "ssn_count_14 ---> Done\n",
      "ssn_count_30 ---> Done\n",
      "Run time for entity ssn -------------- 3.62s\n",
      "\n",
      "address_day_since ---> Done\n",
      "address_count_0 ---> Done\n",
      "address_count_1 ---> Done\n",
      "address_count_3 ---> Done\n",
      "address_count_7 ---> Done\n",
      "address_count_14 ---> Done\n",
      "address_count_30 ---> Done\n",
      "Run time for entity address -------------- 3.56s\n",
      "\n",
      "dob_day_since ---> Done\n",
      "dob_count_0 ---> Done\n",
      "dob_count_1 ---> Done\n",
      "dob_count_3 ---> Done\n",
      "dob_count_7 ---> Done\n",
      "dob_count_14 ---> Done\n",
      "dob_count_30 ---> Done\n",
      "Run time for entity dob -------------- 26.98s\n",
      "\n",
      "homephone_day_since ---> Done\n",
      "homephone_count_0 ---> Done\n",
      "homephone_count_1 ---> Done\n",
      "homephone_count_3 ---> Done\n",
      "homephone_count_7 ---> Done\n",
      "homephone_count_14 ---> Done\n",
      "homephone_count_30 ---> Done\n",
      "Run time for entity homephone -------------- 20.98s\n",
      "\n",
      "name_day_since ---> Done\n",
      "name_count_0 ---> Done\n",
      "name_count_1 ---> Done\n",
      "name_count_3 ---> Done\n",
      "name_count_7 ---> Done\n",
      "name_count_14 ---> Done\n",
      "name_count_30 ---> Done\n",
      "Run time for entity name -------------- 4.85s\n",
      "\n",
      "fulladdress_day_since ---> Done\n",
      "fulladdress_count_0 ---> Done\n",
      "fulladdress_count_1 ---> Done\n",
      "fulladdress_count_3 ---> Done\n",
      "fulladdress_count_7 ---> Done\n",
      "fulladdress_count_14 ---> Done\n",
      "fulladdress_count_30 ---> Done\n",
      "Run time for entity fulladdress -------------- 3.67s\n",
      "\n",
      "name_dob_day_since ---> Done\n",
      "name_dob_count_0 ---> Done\n",
      "name_dob_count_1 ---> Done\n",
      "name_dob_count_3 ---> Done\n",
      "name_dob_count_7 ---> Done\n",
      "name_dob_count_14 ---> Done\n",
      "name_dob_count_30 ---> Done\n",
      "Run time for entity name_dob -------------- 3.62s\n",
      "\n",
      "name_fulladdress_day_since ---> Done\n",
      "name_fulladdress_count_0 ---> Done\n",
      "name_fulladdress_count_1 ---> Done\n",
      "name_fulladdress_count_3 ---> Done\n",
      "name_fulladdress_count_7 ---> Done\n",
      "name_fulladdress_count_14 ---> Done\n",
      "name_fulladdress_count_30 ---> Done\n",
      "Run time for entity name_fulladdress -------------- 3.56s\n",
      "\n",
      "name_homephone_day_since ---> Done\n",
      "name_homephone_count_0 ---> Done\n",
      "name_homephone_count_1 ---> Done\n",
      "name_homephone_count_3 ---> Done\n",
      "name_homephone_count_7 ---> Done\n",
      "name_homephone_count_14 ---> Done\n",
      "name_homephone_count_30 ---> Done\n",
      "Run time for entity name_homephone -------------- 3.46s\n",
      "\n",
      "fulladdress_dob_day_since ---> Done\n",
      "fulladdress_dob_count_0 ---> Done\n",
      "fulladdress_dob_count_1 ---> Done\n",
      "fulladdress_dob_count_3 ---> Done\n",
      "fulladdress_dob_count_7 ---> Done\n",
      "fulladdress_dob_count_14 ---> Done\n",
      "fulladdress_dob_count_30 ---> Done\n",
      "Run time for entity fulladdress_dob -------------- 3.40s\n",
      "\n",
      "fulladdress_homephone_day_since ---> Done\n",
      "fulladdress_homephone_count_0 ---> Done\n",
      "fulladdress_homephone_count_1 ---> Done\n",
      "fulladdress_homephone_count_3 ---> Done\n",
      "fulladdress_homephone_count_7 ---> Done\n",
      "fulladdress_homephone_count_14 ---> Done\n",
      "fulladdress_homephone_count_30 ---> Done\n",
      "Run time for entity fulladdress_homephone -------------- 3.37s\n",
      "\n",
      "dob_homephone_day_since ---> Done\n",
      "dob_homephone_count_0 ---> Done\n",
      "dob_homephone_count_1 ---> Done\n",
      "dob_homephone_count_3 ---> Done\n",
      "dob_homephone_count_7 ---> Done\n",
      "dob_homephone_count_14 ---> Done\n",
      "dob_homephone_count_30 ---> Done\n",
      "Run time for entity dob_homephone -------------- 3.30s\n",
      "\n",
      "homephone_name_dob_day_since ---> Done\n",
      "homephone_name_dob_count_0 ---> Done\n",
      "homephone_name_dob_count_1 ---> Done\n",
      "homephone_name_dob_count_3 ---> Done\n",
      "homephone_name_dob_count_7 ---> Done\n",
      "homephone_name_dob_count_14 ---> Done\n",
      "homephone_name_dob_count_30 ---> Done\n",
      "Run time for entity homephone_name_dob -------------- 3.39s\n",
      "\n",
      "ssn_firstname_day_since ---> Done\n",
      "ssn_firstname_count_0 ---> Done\n",
      "ssn_firstname_count_1 ---> Done\n",
      "ssn_firstname_count_3 ---> Done\n",
      "ssn_firstname_count_7 ---> Done\n",
      "ssn_firstname_count_14 ---> Done\n",
      "ssn_firstname_count_30 ---> Done\n",
      "Run time for entity ssn_firstname -------------- 4.59s\n",
      "\n",
      "ssn_lastname_day_since ---> Done\n",
      "ssn_lastname_count_0 ---> Done\n",
      "ssn_lastname_count_1 ---> Done\n",
      "ssn_lastname_count_3 ---> Done\n",
      "ssn_lastname_count_7 ---> Done\n",
      "ssn_lastname_count_14 ---> Done\n",
      "ssn_lastname_count_30 ---> Done\n",
      "Run time for entity ssn_lastname -------------- 3.35s\n",
      "\n",
      "ssn_address_day_since ---> Done\n",
      "ssn_address_count_0 ---> Done\n",
      "ssn_address_count_1 ---> Done\n",
      "ssn_address_count_3 ---> Done\n",
      "ssn_address_count_7 ---> Done\n",
      "ssn_address_count_14 ---> Done\n",
      "ssn_address_count_30 ---> Done\n",
      "Run time for entity ssn_address -------------- 3.23s\n",
      "\n",
      "ssn_zip5_day_since ---> Done\n",
      "ssn_zip5_count_0 ---> Done\n",
      "ssn_zip5_count_1 ---> Done\n",
      "ssn_zip5_count_3 ---> Done\n",
      "ssn_zip5_count_7 ---> Done\n",
      "ssn_zip5_count_14 ---> Done\n",
      "ssn_zip5_count_30 ---> Done\n",
      "Run time for entity ssn_zip5 -------------- 3.31s\n",
      "\n",
      "ssn_dob_day_since ---> Done\n",
      "ssn_dob_count_0 ---> Done\n",
      "ssn_dob_count_1 ---> Done\n",
      "ssn_dob_count_3 ---> Done\n",
      "ssn_dob_count_7 ---> Done\n",
      "ssn_dob_count_14 ---> Done\n",
      "ssn_dob_count_30 ---> Done\n",
      "Run time for entity ssn_dob -------------- 3.42s\n",
      "\n",
      "ssn_homephone_day_since ---> Done\n",
      "ssn_homephone_count_0 ---> Done\n",
      "ssn_homephone_count_1 ---> Done\n",
      "ssn_homephone_count_3 ---> Done\n",
      "ssn_homephone_count_7 ---> Done\n",
      "ssn_homephone_count_14 ---> Done\n",
      "ssn_homephone_count_30 ---> Done\n",
      "Run time for entity ssn_homephone -------------- 3.40s\n",
      "\n",
      "ssn_name_day_since ---> Done\n",
      "ssn_name_count_0 ---> Done\n",
      "ssn_name_count_1 ---> Done\n",
      "ssn_name_count_3 ---> Done\n",
      "ssn_name_count_7 ---> Done\n",
      "ssn_name_count_14 ---> Done\n",
      "ssn_name_count_30 ---> Done\n",
      "Run time for entity ssn_name -------------- 3.43s\n",
      "\n",
      "ssn_fulladdress_day_since ---> Done\n",
      "ssn_fulladdress_count_0 ---> Done\n",
      "ssn_fulladdress_count_1 ---> Done\n",
      "ssn_fulladdress_count_3 ---> Done\n",
      "ssn_fulladdress_count_7 ---> Done\n",
      "ssn_fulladdress_count_14 ---> Done\n",
      "ssn_fulladdress_count_30 ---> Done\n",
      "Run time for entity ssn_fulladdress -------------- 3.46s\n",
      "\n",
      "ssn_name_dob_day_since ---> Done\n",
      "ssn_name_dob_count_0 ---> Done\n",
      "ssn_name_dob_count_1 ---> Done\n",
      "ssn_name_dob_count_3 ---> Done\n",
      "ssn_name_dob_count_7 ---> Done\n",
      "ssn_name_dob_count_14 ---> Done\n",
      "ssn_name_dob_count_30 ---> Done\n",
      "Run time for entity ssn_name_dob -------------- 3.31s\n",
      "Total run time: 1.99min\n"
     ]
    }
   ],
   "source": [
    "start = time.time()\n",
    "for entity in attributes:\n",
    "    st = time.time()\n",
    "    df_1 = df1[['record','date',entity]]\n",
    "    df_r = df1[['check_record','check_date',entity]]\n",
    "    temp = pd.merge(df_1, df_r, left_on = entity, right_on = entity)\n",
    "    \n",
    "    #day since\n",
    "    day_since_df = temp[temp.record > temp.check_record][['record','date','check_date']].\\\n",
    "        groupby('record')[['date','check_date']].last()\n",
    "    mapper = (day_since_df.date - day_since_df.check_date).dt.days\n",
    "    final[entity + '_day_since'] = final.record.map(mapper)\n",
    "    final[entity + '_day_since'].fillna(365, inplace = True)\n",
    "    print(f'\\n{entity}_day_since ---> Done')\n",
    "    \n",
    "    #velocity\n",
    "    for offset_t in [0,1,3,7,14,30]:\n",
    "        count_day_df = temp[(temp.check_date >= (temp.date - dt.timedelta(offset_t)))\n",
    "                           & (temp.record >= temp.check_record)]\n",
    "        col_name = f'{entity}_count_{offset_t}'\n",
    "        mapper2 = count_day_df.groupby('record')[entity].count()\n",
    "        final[col_name] = final.record.map(mapper2)\n",
    "        \n",
    "        print(f'{entity}_count_{str(offset_t)} ---> Done')\n",
    "    print(f'Run time for entity {entity} -------------- {time.time() - st:0.2f}s')\n",
    "    \n",
    "print(f'Total run time: {(time.time() - start) / 60:0.2f}min')"
   ]
  },
  {
   "cell_type": "code",
   "execution_count": 17,
   "metadata": {
    "ExecuteTime": {
     "end_time": "2021-03-16T17:32:58.381036Z",
     "start_time": "2021-03-16T17:32:53.141902Z"
    }
   },
   "outputs": [
    {
     "name": "stdout",
     "output_type": "stream",
     "text": [
      "Total run time: 5.23s\n"
     ]
    }
   ],
   "source": [
    "#relative velocity\n",
    "start = time.time()\n",
    "for att in attributes:\n",
    "    for d in ['0','1']:\n",
    "        for dd in ['3','7','14','30']:\n",
    "            final[att + '_count_' + d + '_by_' + dd] \\\n",
    "            = final[att + '_count_' + d] / (final[att+'_count_'+dd]/float(dd))\n",
    "print(f'Total run time: {time.time() - start:0.2f}s')"
   ]
  },
  {
   "cell_type": "code",
   "execution_count": 18,
   "metadata": {
    "ExecuteTime": {
     "end_time": "2021-03-16T17:35:43.308608Z",
     "start_time": "2021-03-16T17:32:59.709164Z"
    },
    "scrolled": false
   },
   "outputs": [
    {
     "name": "stdout",
     "output_type": "stream",
     "text": [
      "Total run time: 2.73min\n"
     ]
    }
   ],
   "source": [
    "#unique value over past n days\n",
    "attributes1 = ['ssn','name','dob','ssn_dob']\n",
    "attributes2 = ['homephone', 'address','fulladdress']\n",
    "\n",
    "\n",
    "start = time.time()\n",
    "for entity1 in attributes1:\n",
    "    for entity2 in attributes2:\n",
    "        df_1 = df1[['record','date',entity1]]\n",
    "        df_r = df1[['check_record','check_date',entity1,entity2]]\n",
    "        temp = pd.merge(df_1, df_r,left_on=entity1,right_on=entity1)\n",
    "\n",
    "\n",
    "        for offset_t in [0,1,3,7,14,30]:\n",
    "            count_day_df = temp[(temp.check_date >= (temp.date - dt.timedelta(offset_t)))\n",
    "                               & (temp.record >= temp.check_record)]\n",
    "            col_name = f'unique_{entity2}_of_{entity1}_{offset_t}'\n",
    "            mapper2 = count_day_df.groupby('record')[entity2].nunique()\n",
    "            final[col_name] = final.record.map(mapper2)\n",
    "\n",
    "print(f'Total run time: {(time.time() - start) / 60:0.2f}min')"
   ]
  },
  {
   "cell_type": "code",
   "execution_count": 19,
   "metadata": {
    "ExecuteTime": {
     "end_time": "2021-03-16T17:37:01.036630Z",
     "start_time": "2021-03-16T17:35:46.780921Z"
    }
   },
   "outputs": [],
   "source": [
    "# drop other variables except the ones created\n",
    "for col in attributes:\n",
    "    data = final.drop(col,1)"
   ]
  },
  {
   "cell_type": "code",
   "execution_count": 20,
   "metadata": {
    "ExecuteTime": {
     "end_time": "2021-03-16T17:37:21.936089Z",
     "start_time": "2021-03-16T17:37:03.652761Z"
    }
   },
   "outputs": [],
   "source": [
    "stats = data.describe().transpose()"
   ]
  },
  {
   "cell_type": "code",
   "execution_count": 21,
   "metadata": {
    "ExecuteTime": {
     "end_time": "2021-03-16T17:37:24.365030Z",
     "start_time": "2021-03-16T17:37:24.360815Z"
    }
   },
   "outputs": [],
   "source": [
    "stats = stats.drop(['count','25%','50%','75%'],1)"
   ]
  },
  {
   "cell_type": "code",
   "execution_count": 22,
   "metadata": {
    "ExecuteTime": {
     "end_time": "2021-03-16T17:37:25.947265Z",
     "start_time": "2021-03-16T17:37:25.679569Z"
    }
   },
   "outputs": [],
   "source": [
    "stats.to_excel('new variables.xlsx')"
   ]
  },
  {
   "cell_type": "code",
   "execution_count": 23,
   "metadata": {
    "ExecuteTime": {
     "end_time": "2021-03-16T17:40:24.797056Z",
     "start_time": "2021-03-16T17:37:27.390233Z"
    }
   },
   "outputs": [],
   "source": [
    "data.to_csv('full data.csv')"
   ]
  },
  {
   "cell_type": "markdown",
   "metadata": {},
   "source": [
    "### Feature Filtering\n",
    "\n",
    "- For all your candidate variables, calculate the univariate KS and univariate FDR at 3%.\n",
    "- Sort the variables by both of these measures and provide the two rank ordered lists.\n",
    "- Use only the data in the training/testing, that is, all records before 11/1.\n",
    "- After creating the variables, probably best to leave out the first few weeks in January for feature selection since these variables aren’t all fully formed. (maybe leave out first 2 weeks)\n",
    "- Add two test variables: a random variable and the fraud label. Should see near perfect performance for the fraud label “variable” and near zero predictability for the random variable."
   ]
  },
  {
   "cell_type": "code",
   "execution_count": 24,
   "metadata": {
    "ExecuteTime": {
     "end_time": "2021-03-16T17:40:26.295888Z",
     "start_time": "2021-03-16T17:40:26.287698Z"
    }
   },
   "outputs": [],
   "source": [
    "from datetime import date, timedelta  \n",
    "from scipy.stats import ks_2samp\n",
    "from scipy import stats"
   ]
  },
  {
   "cell_type": "code",
   "execution_count": 25,
   "metadata": {
    "ExecuteTime": {
     "end_time": "2021-03-16T17:40:30.429202Z",
     "start_time": "2021-03-16T17:40:27.624712Z"
    }
   },
   "outputs": [],
   "source": [
    "fil = data.copy()"
   ]
  },
  {
   "cell_type": "code",
   "execution_count": 26,
   "metadata": {
    "ExecuteTime": {
     "end_time": "2021-03-16T17:40:45.151615Z",
     "start_time": "2021-03-16T17:40:32.323797Z"
    }
   },
   "outputs": [],
   "source": [
    "fil = fil[fil['date']<'2016-11-1']\n",
    "time = fil.date.min()+timedelta(weeks=2)\n",
    "fil = fil[fil['date']>=time]"
   ]
  },
  {
   "cell_type": "code",
   "execution_count": 27,
   "metadata": {
    "ExecuteTime": {
     "end_time": "2021-03-16T17:40:47.471518Z",
     "start_time": "2021-03-16T17:40:47.417584Z"
    }
   },
   "outputs": [],
   "source": [
    "# add a random column\n",
    "length = len(fil)\n",
    "x = np.random.normal(0, 1,length)\n",
    "fil['random'] = x"
   ]
  },
  {
   "cell_type": "code",
   "execution_count": 28,
   "metadata": {
    "ExecuteTime": {
     "end_time": "2021-03-16T17:40:48.972446Z",
     "start_time": "2021-03-16T17:40:48.967645Z"
    }
   },
   "outputs": [],
   "source": [
    "KSFDR = pd.DataFrame(index = fil.columns)\n",
    "KSFDR['KS']=np.nan\n",
    "KSFDR['FDR']=np.nan"
   ]
  },
  {
   "cell_type": "code",
   "execution_count": 29,
   "metadata": {
    "ExecuteTime": {
     "end_time": "2021-03-16T17:42:25.844368Z",
     "start_time": "2021-03-16T17:40:50.475062Z"
    }
   },
   "outputs": [],
   "source": [
    "# Univariate KS\n",
    "goods = fil[fil['fraud_label']==0]\n",
    "bads = fil[fil['fraud_label']==1]\n",
    "\n",
    "i = 0\n",
    "for column in fil:\n",
    "    KSFDR['KS'][i]= ks_2samp(goods[column],bads[column])[0]\n",
    "    i=i+1"
   ]
  },
  {
   "cell_type": "code",
   "execution_count": 30,
   "metadata": {
    "ExecuteTime": {
     "end_time": "2021-03-16T17:43:19.415944Z",
     "start_time": "2021-03-16T17:42:28.089581Z"
    }
   },
   "outputs": [],
   "source": [
    "# univariate FDR @ 3%\n",
    "j = 1\n",
    "topRows = int(round(len(fil)*0.03))\n",
    "numbads = sum(fil['fraud_label'])\n",
    "for column in fil:\n",
    "    temp = fil[[column,'fraud_label']].copy()\n",
    "    if column == 'fraud_label':\n",
    "        continue\n",
    "    else:\n",
    "        temp0 = temp.sort_values(column,ascending=False)\n",
    "        temp1 = temp0.head(topRows)\n",
    "        temp2 = temp0.tail(topRows)\n",
    "        needed1 = temp1.loc[:,'fraud_label']\n",
    "        needed2 = temp2.loc[:,'fraud_label']\n",
    "        FDR1 = sum(needed1)/numbads\n",
    "        FDR2 = sum(needed2)/numbads\n",
    "        FDRate = np.maximum(FDR1,FDR2)\n",
    "        KSFDR['FDR'][j] = FDRate\n",
    "        j = j + 1\n",
    "        \n",
    "        \n",
    "KSFDR.loc['fraud_label','FDR'] = 1\n",
    "KSFDR = KSFDR.drop('record')"
   ]
  },
  {
   "cell_type": "code",
   "execution_count": 31,
   "metadata": {
    "ExecuteTime": {
     "end_time": "2021-03-16T17:43:21.264082Z",
     "start_time": "2021-03-16T17:43:21.241107Z"
    }
   },
   "outputs": [],
   "source": [
    "#sort by average rank\n",
    "KSFDR['rank_ks'] = KSFDR['KS'].rank(ascending = True)\n",
    "KSFDR['rank_FDR'] = KSFDR['FDR'].rank(ascending = True)"
   ]
  },
  {
   "cell_type": "code",
   "execution_count": 32,
   "metadata": {
    "ExecuteTime": {
     "end_time": "2021-03-16T17:43:23.098490Z",
     "start_time": "2021-03-16T17:43:23.093888Z"
    }
   },
   "outputs": [],
   "source": [
    "ks = KSFDR.copy()\n",
    "fdr = KSFDR.copy()"
   ]
  },
  {
   "cell_type": "code",
   "execution_count": 33,
   "metadata": {
    "ExecuteTime": {
     "end_time": "2021-03-16T17:43:24.908317Z",
     "start_time": "2021-03-16T17:43:24.901810Z"
    }
   },
   "outputs": [],
   "source": [
    "ks.sort_values(by=['rank_ks'], ascending=False, inplace=True)\n",
    "fdr.sort_values(by=['rank_FDR'], ascending=False, inplace=True)"
   ]
  },
  {
   "cell_type": "code",
   "execution_count": 34,
   "metadata": {
    "ExecuteTime": {
     "end_time": "2021-03-16T17:43:26.736303Z",
     "start_time": "2021-03-16T17:43:26.722169Z"
    }
   },
   "outputs": [],
   "source": [
    "ks.reset_index(inplace = True)\n",
    "ks = ks.rename(columns = {'index':'Variables'})\n",
    "fdr.reset_index(inplace = True)\n",
    "fdr = fdr.rename(columns = {'index':'Variables'})"
   ]
  },
  {
   "cell_type": "code",
   "execution_count": 35,
   "metadata": {
    "ExecuteTime": {
     "end_time": "2021-03-16T17:43:30.103565Z",
     "start_time": "2021-03-16T17:43:28.561393Z"
    }
   },
   "outputs": [],
   "source": [
    "final = pd.concat([ks,fdr],axis =1)\n",
    "final.to_excel('filter1.xlsx')"
   ]
  },
  {
   "cell_type": "code",
   "execution_count": null,
   "metadata": {},
   "outputs": [],
   "source": []
  }
 ],
 "metadata": {
  "kernelspec": {
   "display_name": "Python 3",
   "language": "python",
   "name": "python3"
  },
  "language_info": {
   "codemirror_mode": {
    "name": "ipython",
    "version": 3
   },
   "file_extension": ".py",
   "mimetype": "text/x-python",
   "name": "python",
   "nbconvert_exporter": "python",
   "pygments_lexer": "ipython3",
   "version": "3.8.3"
  },
  "varInspector": {
   "cols": {
    "lenName": 16,
    "lenType": 16,
    "lenVar": 40
   },
   "kernels_config": {
    "python": {
     "delete_cmd_postfix": "",
     "delete_cmd_prefix": "del ",
     "library": "var_list.py",
     "varRefreshCmd": "print(var_dic_list())"
    },
    "r": {
     "delete_cmd_postfix": ") ",
     "delete_cmd_prefix": "rm(",
     "library": "var_list.r",
     "varRefreshCmd": "cat(var_dic_list()) "
    }
   },
   "types_to_exclude": [
    "module",
    "function",
    "builtin_function_or_method",
    "instance",
    "_Feature"
   ],
   "window_display": false
  }
 },
 "nbformat": 4,
 "nbformat_minor": 4
}
